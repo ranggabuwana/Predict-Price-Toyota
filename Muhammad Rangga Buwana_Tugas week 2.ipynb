{
 "cells": [
  {
   "cell_type": "code",
   "execution_count": 1,
   "metadata": {
    "id": "7NQTVMduH-r5"
   },
   "outputs": [
    {
     "ename": "ModuleNotFoundError",
     "evalue": "No module named 'wordcloud'",
     "output_type": "error",
     "traceback": [
      "\u001b[1;31m---------------------------------------------------------------------------\u001b[0m",
      "\u001b[1;31mModuleNotFoundError\u001b[0m                       Traceback (most recent call last)",
      "\u001b[1;32m<ipython-input-1-1a4057d8c69e>\u001b[0m in \u001b[0;36m<module>\u001b[1;34m\u001b[0m\n\u001b[0;32m      6\u001b[0m \u001b[1;32mfrom\u001b[0m \u001b[0mnltk\u001b[0m \u001b[1;32mimport\u001b[0m \u001b[0mdownload\u001b[0m\u001b[1;33m\u001b[0m\u001b[1;33m\u001b[0m\u001b[0m\n\u001b[0;32m      7\u001b[0m \u001b[1;32mfrom\u001b[0m \u001b[0mnltk\u001b[0m\u001b[1;33m.\u001b[0m\u001b[0mcorpus\u001b[0m \u001b[1;32mimport\u001b[0m \u001b[0mstopwords\u001b[0m\u001b[1;33m\u001b[0m\u001b[1;33m\u001b[0m\u001b[0m\n\u001b[1;32m----> 8\u001b[1;33m \u001b[1;32mfrom\u001b[0m \u001b[0mwordcloud\u001b[0m \u001b[1;32mimport\u001b[0m \u001b[0mWordCloud\u001b[0m\u001b[1;33m\u001b[0m\u001b[1;33m\u001b[0m\u001b[0m\n\u001b[0m\u001b[0;32m      9\u001b[0m \u001b[1;33m\u001b[0m\u001b[0m\n\u001b[0;32m     10\u001b[0m \u001b[1;32mfrom\u001b[0m \u001b[0msklearn\u001b[0m\u001b[1;33m.\u001b[0m\u001b[0mmodel_selection\u001b[0m \u001b[1;32mimport\u001b[0m \u001b[0mtrain_test_split\u001b[0m\u001b[1;33m\u001b[0m\u001b[1;33m\u001b[0m\u001b[0m\n",
      "\u001b[1;31mModuleNotFoundError\u001b[0m: No module named 'wordcloud'"
     ]
    }
   ],
   "source": [
    "import pandas as pd\n",
    "import numpy as np\n",
    "import matplotlib.pyplot as plt\n",
    "import seaborn as sns\n",
    "\n",
    "from nltk import download\n",
    "from nltk.corpus import stopwords\n",
    "from wordcloud import WordCloud\n",
    "\n",
    "from sklearn.model_selection import train_test_split\n",
    "from sklearn.metrics import confusion_matrix, classification_report"
   ]
  },
  {
   "cell_type": "code",
   "execution_count": null,
   "metadata": {
    "colab": {
     "base_uri": "https://localhost:8080/"
    },
    "id": "LdIltWQLJd4k",
    "outputId": "7e8d980f-201b-430b-c3b1-38257692ac64"
   },
   "outputs": [],
   "source": [
    "from google.colab import drive\n",
    "drive.mount('/content/gdrive')"
   ]
  },
  {
   "cell_type": "code",
   "execution_count": null,
   "metadata": {
    "colab": {
     "base_uri": "https://localhost:8080/"
    },
    "id": "5xPRChRBL6XG",
    "outputId": "9709c96e-4e4a-4474-aff2-788e0435c39e"
   },
   "outputs": [],
   "source": [
    "path = '/content/gdrive/MyDrive/DSA-ICON/'\n",
    "\n",
    "import os\n",
    "os.listdir(path)"
   ]
  },
  {
   "cell_type": "code",
   "execution_count": null,
   "metadata": {
    "colab": {
     "base_uri": "https://localhost:8080/",
     "height": 203
    },
    "id": "lZP8INE6PrIX",
    "outputId": "fe80cf3c-4d92-4e64-d5c9-214bc9f99467"
   },
   "outputs": [],
   "source": [
    "df = pd.read_csv(path + 'toyota.csv')\n",
    "df.head()"
   ]
  },
  {
   "cell_type": "code",
   "execution_count": null,
   "metadata": {
    "colab": {
     "base_uri": "https://localhost:8080/",
     "height": 295
    },
    "id": "G9bafKL1PzDK",
    "outputId": "6382ed89-07ea-46d9-bf5d-fc6814a5bd68"
   },
   "outputs": [],
   "source": [
    "df.describe()"
   ]
  },
  {
   "cell_type": "code",
   "execution_count": null,
   "metadata": {
    "colab": {
     "base_uri": "https://localhost:8080/"
    },
    "id": "-Ty55D4bRdDZ",
    "outputId": "8e23e2f9-0256-40cc-ec0b-48bd9b1d9e2b"
   },
   "outputs": [],
   "source": [
    "df.info()"
   ]
  },
  {
   "cell_type": "code",
   "execution_count": null,
   "metadata": {
    "colab": {
     "base_uri": "https://localhost:8080/"
    },
    "id": "wCR2TELhRiQx",
    "outputId": "71413fe1-0d67-4509-91da-b847d72d10b8"
   },
   "outputs": [],
   "source": [
    "df.duplicated().any()"
   ]
  },
  {
   "cell_type": "code",
   "execution_count": null,
   "metadata": {
    "colab": {
     "base_uri": "https://localhost:8080/",
     "height": 417
    },
    "id": "4FLhG63xRmW_",
    "outputId": "38b4a526-e09d-4557-b4d1-6315dc492c90"
   },
   "outputs": [],
   "source": [
    "df = df.drop_duplicates().reset_index(drop=True)\n",
    "df"
   ]
  },
  {
   "cell_type": "code",
   "execution_count": null,
   "metadata": {
    "colab": {
     "base_uri": "https://localhost:8080/"
    },
    "id": "G580j0AZR12f",
    "outputId": "49e39850-8e04-4dbc-d13d-24297e9cd8db"
   },
   "outputs": [],
   "source": [
    "df.info()"
   ]
  },
  {
   "cell_type": "code",
   "execution_count": null,
   "metadata": {
    "id": "DTtnryaiR4NO"
   },
   "outputs": [],
   "source": [
    "price = []\n",
    "for i in df['price']:\n",
    "  if 0 <= i <= 20000:\n",
    "    price.append('cheap')\n",
    "  elif 20001 <= i <= 40000:\n",
    "    price.append('middle')\n",
    "  else:\n",
    "    price.append('expensive')\n",
    "\n",
    "df['price_category'] = price"
   ]
  },
  {
   "cell_type": "code",
   "execution_count": null,
   "metadata": {
    "colab": {
     "base_uri": "https://localhost:8080/",
     "height": 203
    },
    "id": "HnSh0kfkR6-S",
    "outputId": "ceeab7f9-66d4-439e-b64f-a4ff6fae3565"
   },
   "outputs": [],
   "source": [
    "df.head()"
   ]
  },
  {
   "cell_type": "code",
   "execution_count": null,
   "metadata": {
    "colab": {
     "base_uri": "https://localhost:8080/"
    },
    "id": "xMAeODAePl8t",
    "outputId": "9a4225ba-1f23-412c-c448-7fe0793ad5b8"
   },
   "outputs": [],
   "source": [
    "download('stopwords')\n",
    "\n",
    "stop = stopwords.words('indonesian')"
   ]
  },
  {
   "cell_type": "code",
   "execution_count": null,
   "metadata": {
    "id": "umE9-r4lPyNN"
   },
   "outputs": [],
   "source": [
    "stop.extend([' '])"
   ]
  },
  {
   "cell_type": "code",
   "execution_count": null,
   "metadata": {
    "id": "cFPWhJUiP7kY"
   },
   "outputs": [],
   "source": [
    "df['model'] = df['model'].str.lower()\n",
    "df['year'] = [str(year) for year in df['year']]\n",
    "df['transmission'] = df['transmission'].str.lower()\n",
    "df['fuelType'] = df['fuelType'].str.lower()\n",
    "\n",
    "df['model'] = df['model'].apply(\n",
    "    lambda x: ' '.join([word for word in x.split()\n",
    "    if word not in (stop)]))"
   ]
  },
  {
   "cell_type": "code",
   "execution_count": null,
   "metadata": {
    "colab": {
     "base_uri": "https://localhost:8080/"
    },
    "id": "5qketg1Y-b8y",
    "outputId": "b6ac2a4e-55a4-4a50-9cb8-46c9cbb0f099"
   },
   "outputs": [],
   "source": [
    "df['transmission'].unique()"
   ]
  },
  {
   "cell_type": "code",
   "execution_count": null,
   "metadata": {
    "colab": {
     "base_uri": "https://localhost:8080/"
    },
    "id": "rl3qdiIz-f3g",
    "outputId": "0adc50d3-4e2b-466f-8792-0180a31a79a1"
   },
   "outputs": [],
   "source": [
    "df['fuelType'].unique()"
   ]
  },
  {
   "cell_type": "code",
   "execution_count": null,
   "metadata": {
    "colab": {
     "base_uri": "https://localhost:8080/",
     "height": 382
    },
    "id": "Qeqt3S9hRT6O",
    "outputId": "37b1716d-61af-4f28-cfaa-e6d90fdd0a21"
   },
   "outputs": [],
   "source": [
    "sns.set(rc={'figure.figsize':(11.7, 8.27)})\n",
    "\n",
    "sns.displot(df['mpg'], bins=10)"
   ]
  },
  {
   "cell_type": "code",
   "execution_count": null,
   "metadata": {
    "colab": {
     "base_uri": "https://localhost:8080/",
     "height": 382
    },
    "id": "lgj27Wq3SUkG",
    "outputId": "21c58f5d-8b1b-4549-9131-702aa00ecc3b"
   },
   "outputs": [],
   "source": [
    "sns.set(rc={'figure.figsize':(11.7, 8.27)})\n",
    "\n",
    "sns.displot(df['price'], bins=10)"
   ]
  },
  {
   "cell_type": "code",
   "execution_count": null,
   "metadata": {
    "colab": {
     "base_uri": "https://localhost:8080/",
     "height": 382
    },
    "id": "PLK9klSQTq04",
    "outputId": "160922c7-0e3f-46b9-9b26-6b48b42468ff"
   },
   "outputs": [],
   "source": [
    "sns.set(rc={'figure.figsize':(11.7, 8.27)})\n",
    "\n",
    "sns.displot(df['tax'], bins=10)"
   ]
  },
  {
   "cell_type": "code",
   "execution_count": null,
   "metadata": {
    "colab": {
     "base_uri": "https://localhost:8080/",
     "height": 382
    },
    "id": "xhfTaf86T1tD",
    "outputId": "f838700f-37bd-47e8-d957-f888ee29ce2c"
   },
   "outputs": [],
   "source": [
    "sns.set(rc={'figure.figsize':(11.7, 8.27)})\n",
    "\n",
    "sns.displot(df['engineSize'], bins=10)"
   ]
  },
  {
   "cell_type": "code",
   "execution_count": null,
   "metadata": {
    "id": "sEHImOC2YtbC"
   },
   "outputs": [],
   "source": [
    "from sklearn.neighbors import KNeighborsClassifier\n",
    "from sklearn.pipeline import Pipeline\n",
    "from sklearn import preprocessing"
   ]
  },
  {
   "cell_type": "code",
   "execution_count": null,
   "metadata": {
    "id": "aS6RyRuPT1aI"
   },
   "outputs": [],
   "source": [
    "le = preprocessing.LabelEncoder()\n",
    "\n",
    "df['model'] = le.fit_transform(df['model'])\n",
    "df['year'] = le.fit_transform(df['year'])\n",
    "df['transmission'] = le.fit_transform(df['transmission'])\n",
    "df['fuelType'] = le.fit_transform(df['fuelType'])"
   ]
  },
  {
   "cell_type": "code",
   "execution_count": null,
   "metadata": {
    "colab": {
     "base_uri": "https://localhost:8080/",
     "height": 417
    },
    "id": "RaIp6Fne-2el",
    "outputId": "0cd472ea-955f-4657-943c-e6b6a6a913d8"
   },
   "outputs": [],
   "source": [
    "df "
   ]
  },
  {
   "cell_type": "code",
   "execution_count": null,
   "metadata": {
    "id": "gkPkr3cdfrB2"
   },
   "outputs": [],
   "source": [
    "X = df.drop(columns=['price_category', 'price'])\n",
    "y = df['price_category']"
   ]
  },
  {
   "cell_type": "code",
   "execution_count": null,
   "metadata": {
    "id": "8v19cDurU7-L"
   },
   "outputs": [],
   "source": [
    "X_train, X_test, y_train, y_test = train_test_split(X, y, test_size=0.3, random_state = 22)"
   ]
  },
  {
   "cell_type": "code",
   "execution_count": null,
   "metadata": {
    "id": "IUlDaXzPVBLr"
   },
   "outputs": [],
   "source": [
    "knn = KNeighborsClassifier(n_neighbors=3)"
   ]
  },
  {
   "cell_type": "code",
   "execution_count": null,
   "metadata": {
    "id": "qLHKu8cM_8jw"
   },
   "outputs": [],
   "source": [
    "model = knn.fit(X_train, y_train)"
   ]
  },
  {
   "cell_type": "code",
   "execution_count": null,
   "metadata": {
    "id": "McwBjUzq8Qip"
   },
   "outputs": [],
   "source": [
    "y_pred = model.predict(X_test)"
   ]
  },
  {
   "cell_type": "code",
   "execution_count": null,
   "metadata": {
    "colab": {
     "base_uri": "https://localhost:8080/"
    },
    "id": "suNT8UeJ9IR8",
    "outputId": "50ba97e8-9d9a-45f3-a8c4-be9ae8506997"
   },
   "outputs": [],
   "source": [
    "print(classification_report(y_test, y_pred))"
   ]
  },
  {
   "cell_type": "code",
   "execution_count": null,
   "metadata": {
    "colab": {
     "base_uri": "https://localhost:8080/"
    },
    "id": "TOGMxOaCckWe",
    "outputId": "953f6565-e64c-4f51-fedc-87aa59cd3a90"
   },
   "outputs": [],
   "source": [
    "from joblib import dump\n",
    "\n",
    "dump(knn, 'Model_price.pkl')"
   ]
  },
  {
   "cell_type": "code",
   "execution_count": null,
   "metadata": {
    "colab": {
     "base_uri": "https://localhost:8080/",
     "height": 363
    },
    "id": "Wbt5iW8ouIO8",
    "outputId": "8284fcaf-b8b9-4305-fb9b-8b9977658b26"
   },
   "outputs": [],
   "source": [
    "import streamlit as st\n",
    "\n",
    "from pyngrok import ngrok\n",
    "from joblib import load\n",
    "\n",
    "trained_model = load(\"/content/Model_price.pkl\")\n",
    "\n",
    "form = st.form(key='my-form')\n",
    "\n",
    "Model = st.sidebar.selectbox(\"Masukkan model: \", ('gt86', 'corolla', 'rav4', 'yaris', 'auris', 'aygo', 'c-hr',\n",
    "       'prius', 'avensis', 'verso', 'hilux', 'proace verso',\n",
    "       'land cruiser', 'supra', 'camry', 'verso-s', 'iq', 'urban cruiser'))\n",
    "year = st.slider(\"Masukkan tahun: \", 1998, 2020)\n",
    "trans = st.sidebar.selectbox(\"Masukkan transmission: \", ('manual', 'automatic', 'semi-auto', 'other'))\n",
    "mile = form.text_input(\"Masukkan mileage: \")\n",
    "fuel = st.sidebar.selectbox(\"Masukkan fuelType: \", ('petrol', 'other', 'hybrid', 'diesel'))\n",
    "tax = form.text_input(\"Masukkan tax: \")\n",
    "mpg = st.slider(\"Masukkan mpg: \", 2.8, 235.0)\n",
    "engSize = st.slider(\"Masukkan engineSize: \", 0.0, 4.5)\n",
    "\n",
    "submit = form.form_submit_button(\"Bagaimana dengan harganya\")\n",
    "\n",
    "if submit:\n",
    "  hasil_akhir = le.inverse_transform(trained_model.predict([[\n",
    "    str(Model),\n",
    "    str(year),\n",
    "    str(trans),\n",
    "    int(mile),\n",
    "    str(fuel),\n",
    "    int(tax),\n",
    "    float(mpg), \n",
    "    float(engSize)]]))\n",
    "  st.write(\"Hasil harga:\")\n",
    "  st.write(str(hasil_akhir))\n",
    "\n",
    "ngrok_tunnel = ngrok.connect(8501)\n",
    "print('Public URL:', ngrok_tunnel.public_url)"
   ]
  },
  {
   "cell_type": "code",
   "execution_count": null,
   "metadata": {
    "id": "iN5Wc-HSuR9D"
   },
   "outputs": [],
   "source": [
    "!streamlit run harga_mobil.py"
   ]
  },
  {
   "cell_type": "code",
   "execution_count": null,
   "metadata": {
    "id": "RbdM0mBW2bq7"
   },
   "outputs": [],
   "source": []
  }
 ],
 "metadata": {
  "colab": {
   "collapsed_sections": [],
   "name": "Muhammad Rangga Buwana_Tugas 2.ipynb",
   "provenance": []
  },
  "kernelspec": {
   "display_name": "Python 3",
   "language": "python",
   "name": "python3"
  },
  "language_info": {
   "codemirror_mode": {
    "name": "ipython",
    "version": 3
   },
   "file_extension": ".py",
   "mimetype": "text/x-python",
   "name": "python",
   "nbconvert_exporter": "python",
   "pygments_lexer": "ipython3",
   "version": "3.8.8"
  }
 },
 "nbformat": 4,
 "nbformat_minor": 1
}
